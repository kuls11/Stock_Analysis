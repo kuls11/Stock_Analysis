{
 "cells": [
  {
   "cell_type": "code",
   "execution_count": null,
   "id": "7ae25b39",
   "metadata": {},
   "outputs": [],
   "source": [
    "import pandas as pd\n",
    "import numpy as np\n",
    "import datetime as dt\n",
    "import matplotlib.pyplot as plt"
   ]
  },
  {
   "cell_type": "code",
   "execution_count": null,
   "id": "b19966ba",
   "metadata": {},
   "outputs": [],
   "source": [
    "df1 = pd.read_csv(\"C:/Users/kuldeep/Downloads/TATASTEEL.csv\")\n",
    "df2 = pd.read_csv(\"C:/Users/kuldeep/Downloads/Tata_Motors_Ltd._historical_data - Tata_Motors_Ltd._historical_data.csv\")\n",
    "df3 = pd.read_csv(\"C:/Users/kuldeep/Downloads/TCS_stock_history - TCS_stock_history.csv\")"
   ]
  },
  {
   "cell_type": "code",
   "execution_count": null,
   "id": "8c163d79",
   "metadata": {},
   "outputs": [],
   "source": [
    "df1.head(5)"
   ]
  },
  {
   "cell_type": "code",
   "execution_count": null,
   "id": "7d611a02",
   "metadata": {},
   "outputs": [],
   "source": [
    "df2.head(5)"
   ]
  },
  {
   "cell_type": "code",
   "execution_count": null,
   "id": "4599c8c6",
   "metadata": {},
   "outputs": [],
   "source": [
    "df3.head(5)"
   ]
  },
  {
   "cell_type": "code",
   "execution_count": null,
   "id": "272bcf7b",
   "metadata": {},
   "outputs": [],
   "source": [
    "df2.info()"
   ]
  },
  {
   "cell_type": "code",
   "execution_count": null,
   "id": "370ddde0",
   "metadata": {},
   "outputs": [],
   "source": [
    "df1.shape"
   ]
  },
  {
   "cell_type": "code",
   "execution_count": null,
   "id": "abd8f6ef",
   "metadata": {},
   "outputs": [],
   "source": [
    "df1.describe()"
   ]
  },
  {
   "cell_type": "code",
   "execution_count": null,
   "id": "b0e96710",
   "metadata": {},
   "outputs": [],
   "source": [
    "df1.isna().sum()\n",
    "# to check for null values in the dataset"
   ]
  },
  {
   "cell_type": "code",
   "execution_count": null,
   "id": "f6e492ac",
   "metadata": {},
   "outputs": [],
   "source": [
    "df1.duplicated().sum()\n",
    "# to check for duplicated values in the dataset and get all the number in sum"
   ]
  },
  {
   "cell_type": "code",
   "execution_count": null,
   "id": "1a6be307",
   "metadata": {},
   "outputs": [],
   "source": [
    "df2.duplicated().sum()"
   ]
  },
  {
   "cell_type": "code",
   "execution_count": null,
   "id": "410d22f9",
   "metadata": {},
   "outputs": [],
   "source": [
    "df3.duplicated().sum()"
   ]
  },
  {
   "cell_type": "code",
   "execution_count": null,
   "id": "928dca9e",
   "metadata": {},
   "outputs": [],
   "source": [
    "df2.describe().round(3)"
   ]
  },
  {
   "cell_type": "code",
   "execution_count": null,
   "id": "754fc447",
   "metadata": {},
   "outputs": [],
   "source": [
    "df1[\"Date\"]=pd.to_datetime(df1[\"Date\"])"
   ]
  },
  {
   "cell_type": "code",
   "execution_count": null,
   "id": "78c3c171",
   "metadata": {},
   "outputs": [],
   "source": [
    "df1.shape"
   ]
  },
  {
   "cell_type": "code",
   "execution_count": null,
   "id": "73ca584c",
   "metadata": {},
   "outputs": [],
   "source": [
    "df1.info()"
   ]
  },
  {
   "cell_type": "code",
   "execution_count": null,
   "id": "7aa6c3b1",
   "metadata": {},
   "outputs": [],
   "source": [
    "df2[\"Date\"]=pd.to_datetime(df2[\"Date\"])\n",
    "df3[\"Date\"]=pd.to_datetime(df3[\"Date\"])\n",
    "#to convert our date column from object to datetime format"
   ]
  },
  {
   "cell_type": "code",
   "execution_count": null,
   "id": "7721efa9",
   "metadata": {},
   "outputs": [],
   "source": [
    "df2.info()"
   ]
  },
  {
   "cell_type": "code",
   "execution_count": null,
   "id": "d9482b8f",
   "metadata": {},
   "outputs": [],
   "source": [
    "df3.info()\n",
    "#to check data about which are of which type"
   ]
  },
  {
   "cell_type": "code",
   "execution_count": null,
   "id": "7eae2872",
   "metadata": {},
   "outputs": [],
   "source": [
    "df1[\"Month\"]=df1[\"Date\"].dt.month\n",
    "df2[\"Month\"]=df2[\"Date\"].dt.month\n",
    "df3[\"Month\"]=df3[\"Date\"].dt.month\n",
    "\n",
    "df1[\"Year\"]=df1[\"Date\"].dt.year\n",
    "df2[\"Year\"]=df2[\"Date\"].dt.year\n",
    "df3[\"Year\"]=df3[\"Date\"].dt.year\n",
    "\n",
    "df1[\"Day\"]=df1[\"Date\"].dt.day\n",
    "df2[\"Day\"]=df2[\"Date\"].dt.day\n",
    "df3[\"Day\"]=df3[\"Date\"].dt.day"
   ]
  },
  {
   "cell_type": "code",
   "execution_count": null,
   "id": "7c48a138",
   "metadata": {},
   "outputs": [],
   "source": [
    "plt.figure(figsize = (20,7))\n",
    "plt.plot(df1[\"Date\"],df1[\"Open\"],color = \"blue\",label = 'motors')\n",
    "plt.plot(df2[\"Date\"],df2[\"Open\"],color = \"red\",label = 'steels')\n",
    "plt.plot(df3[\"Date\"],df3[\"Open Price\"],color =\"orange\",label=\"tcs\")\n",
    "\n",
    "\n",
    "plt.xlabel(\"Year\")\n",
    "plt.ylabel(\"Price\")\n",
    "plt.legend(title=\"\")\n",
    "plt.show()"
   ]
  },
  {
   "cell_type": "code",
   "execution_count": null,
   "id": "9b4a1139",
   "metadata": {},
   "outputs": [],
   "source": []
  },
  {
   "cell_type": "code",
   "execution_count": null,
   "id": "7c638bf7",
   "metadata": {},
   "outputs": [],
   "source": []
  }
 ],
 "metadata": {
  "kernelspec": {
   "display_name": "Python 3 (ipykernel)",
   "language": "python",
   "name": "python3"
  },
  "language_info": {
   "codemirror_mode": {
    "name": "ipython",
    "version": 3
   },
   "file_extension": ".py",
   "mimetype": "text/x-python",
   "name": "python",
   "nbconvert_exporter": "python",
   "pygments_lexer": "ipython3",
   "version": "3.11.4"
  }
 },
 "nbformat": 4,
 "nbformat_minor": 5
}
